{
 "cells": [
  {
   "cell_type": "code",
   "execution_count": 1,
   "metadata": {},
   "outputs": [],
   "source": [
    "import numpy as np"
   ]
  },
  {
   "cell_type": "code",
   "execution_count": 11,
   "metadata": {},
   "outputs": [],
   "source": [
    "population =np.random.randn(100)"
   ]
  },
  {
   "cell_type": "code",
   "execution_count": 12,
   "metadata": {},
   "outputs": [
    {
     "data": {
      "text/plain": [
       "array([-0.01177214,  1.35089769,  0.20491032,  1.18700166,  2.00028009,\n",
       "       -0.2389152 , -1.33022059, -0.56672123, -0.09806458,  0.12631575,\n",
       "       -0.3258559 , -1.08999314, -0.36056658, -1.17085923, -1.04641936,\n",
       "       -1.50841047,  1.19955563, -0.87377401, -1.65081828, -1.21236354,\n",
       "        0.83432736, -0.67565054, -0.85263184,  0.04913417,  1.02573448,\n",
       "       -0.22266857, -0.11711554, -0.18767637,  0.28418943,  0.51471395,\n",
       "       -0.82775514,  1.75046335, -0.93903283, -1.00919864,  0.19625201,\n",
       "        1.55490435,  0.90337361, -0.60058148, -0.91620766,  2.51127769,\n",
       "       -0.96887308, -0.15493099, -1.34097719, -0.55395992,  0.290147  ,\n",
       "       -0.51571338,  0.54568679, -0.60611405, -0.60123215, -1.51811706,\n",
       "        0.4061865 , -1.83360869, -0.56412934, -0.25347687,  0.29509519,\n",
       "        0.47745459, -1.05641423, -0.35991316,  1.14642537,  0.00631   ,\n",
       "        0.29546317, -0.51761384, -0.20849379,  0.15558336,  0.18187643,\n",
       "        1.83580047, -0.07684568, -1.48201599,  0.34296997, -0.10402273,\n",
       "       -0.11199443,  0.68161706,  0.50812954,  0.13037104, -2.10245632,\n",
       "       -0.63742731,  1.8346917 , -0.88344571, -0.57270019, -0.40421751,\n",
       "        0.43971256,  1.00339099,  1.20901012, -0.28631024, -0.56841343,\n",
       "        0.55263166, -1.24613117,  0.07493732, -0.11817699, -1.58473864,\n",
       "        0.14875756, -0.0953777 , -0.23388081,  1.1073371 ,  0.64918779,\n",
       "        0.04822618, -1.52636636, -0.95126214, -0.01162272,  0.19762889])"
      ]
     },
     "execution_count": 12,
     "metadata": {},
     "output_type": "execute_result"
    }
   ],
   "source": [
    "population"
   ]
  },
  {
   "cell_type": "code",
   "execution_count": 15,
   "metadata": {},
   "outputs": [],
   "source": [
    "sample = np.random.choice(population, 20)"
   ]
  },
  {
   "cell_type": "code",
   "execution_count": 16,
   "metadata": {},
   "outputs": [
    {
     "data": {
      "text/plain": [
       "array([-1.50841047,  1.8346917 ,  2.00028009, -0.91620766, -0.60058148,\n",
       "        0.68161706,  1.18700166, -0.18767637, -0.87377401,  0.64918779,\n",
       "       -0.01177214, -0.93903283,  0.15558336, -0.96887308, -1.52636636,\n",
       "       -0.11817699, -1.05641423,  0.19625201, -1.51811706, -0.51761384])"
      ]
     },
     "execution_count": 16,
     "metadata": {},
     "output_type": "execute_result"
    }
   ],
   "source": [
    "sample"
   ]
  },
  {
   "cell_type": "markdown",
   "metadata": {},
   "source": [
    "# Variance"
   ]
  },
  {
   "cell_type": "code",
   "execution_count": 17,
   "metadata": {},
   "outputs": [
    {
     "data": {
      "text/plain": [
       "0.8284205170509593"
      ]
     },
     "execution_count": 17,
     "metadata": {},
     "output_type": "execute_result"
    }
   ],
   "source": [
    "#variance of the population\n",
    "np.var(population)"
   ]
  },
  {
   "cell_type": "code",
   "execution_count": 18,
   "metadata": {},
   "outputs": [
    {
     "data": {
      "text/plain": [
       "1.051833539987321"
      ]
     },
     "execution_count": 18,
     "metadata": {},
     "output_type": "execute_result"
    }
   ],
   "source": [
    "#variance of the sample\n",
    "np.var(sample)"
   ]
  },
  {
   "cell_type": "markdown",
   "metadata": {},
   "source": [
    "# Standard Deviation"
   ]
  },
  {
   "cell_type": "code",
   "execution_count": 19,
   "metadata": {},
   "outputs": [
    {
     "data": {
      "text/plain": [
       "0.9101760912323281"
      ]
     },
     "execution_count": 19,
     "metadata": {},
     "output_type": "execute_result"
    }
   ],
   "source": [
    "#standad deviation of the population\n",
    "np.std(population)"
   ]
  },
  {
   "cell_type": "code",
   "execution_count": 20,
   "metadata": {},
   "outputs": [
    {
     "data": {
      "text/plain": [
       "1.0255893622631433"
      ]
     },
     "execution_count": 20,
     "metadata": {},
     "output_type": "execute_result"
    }
   ],
   "source": [
    "np.std(sample)"
   ]
  },
  {
   "cell_type": "markdown",
   "metadata": {},
   "source": [
    "# Range"
   ]
  },
  {
   "cell_type": "code",
   "execution_count": 21,
   "metadata": {},
   "outputs": [
    {
     "data": {
      "text/plain": [
       "4.613734014479703"
      ]
     },
     "execution_count": 21,
     "metadata": {},
     "output_type": "execute_result"
    }
   ],
   "source": [
    "np.max(population)- np.min(population)"
   ]
  },
  {
   "cell_type": "markdown",
   "metadata": {},
   "source": [
    "# Quantile"
   ]
  },
  {
   "cell_type": "code",
   "execution_count": 22,
   "metadata": {},
   "outputs": [],
   "source": [
    "q1 = np.percentile(population, 25)\n",
    "q2 = np.percentile(population,50)\n",
    "q3 = np.percentile(population,75)"
   ]
  },
  {
   "cell_type": "code",
   "execution_count": 24,
   "metadata": {},
   "outputs": [
    {
     "data": {
      "text/plain": [
       "1.0724507957777627"
      ]
     },
     "execution_count": 24,
     "metadata": {},
     "output_type": "execute_result"
    }
   ],
   "source": [
    "iqr = q3-q1\n",
    "iqr"
   ]
  }
 ],
 "metadata": {
  "kernelspec": {
   "display_name": "Python 3",
   "language": "python",
   "name": "python3"
  },
  "language_info": {
   "codemirror_mode": {
    "name": "ipython",
    "version": 3
   },
   "file_extension": ".py",
   "mimetype": "text/x-python",
   "name": "python",
   "nbconvert_exporter": "python",
   "pygments_lexer": "ipython3",
   "version": "3.7.1"
  }
 },
 "nbformat": 4,
 "nbformat_minor": 2
}
